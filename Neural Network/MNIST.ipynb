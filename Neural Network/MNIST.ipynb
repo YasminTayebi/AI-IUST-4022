{
  "nbformat": 4,
  "nbformat_minor": 0,
  "metadata": {
    "colab": {
      "provenance": []
    },
    "kernelspec": {
      "name": "python3",
      "display_name": "Python 3"
    },
    "language_info": {
      "name": "python"
    }
  },
  "cells": [
    {
      "cell_type": "code",
      "execution_count": 1,
      "metadata": {
        "colab": {
          "base_uri": "https://localhost:8080/"
        },
        "id": "TCbOBXhedaxf",
        "outputId": "7997a37c-cec6-4a30-f7e7-6422a99bafe7"
      },
      "outputs": [
        {
          "output_type": "stream",
          "name": "stdout",
          "text": [
            "Net(\n",
            "  (fc): Linear(in_features=784, out_features=10, bias=True)\n",
            ")\n"
          ]
        }
      ],
      "source": [
        "import torch\n",
        "import torch.nn as nn\n",
        "import torch.nn.functional as F\n",
        "\n",
        "class Net(nn.Module):\n",
        "\n",
        "    def __init__(self):\n",
        "        super(Net, self).__init__()\n",
        "        self.fc = nn.Linear(28*28, 10)\n",
        "\n",
        "    def forward(self, x):\n",
        "        x = torch.flatten(x, 1) # flatten all dimensions except the batch dimension\n",
        "        x = self.fc(x)\n",
        "        return x\n",
        "\n",
        "net = Net()\n",
        "print(net)"
      ]
    },
    {
      "cell_type": "code",
      "source": [
        "params = list(net.parameters())\n",
        "print(len(params))\n",
        "print(params[0].size())  # fc's .weight\n",
        "print(params[1].size())  # fc's .bias"
      ],
      "metadata": {
        "colab": {
          "base_uri": "https://localhost:8080/"
        },
        "id": "YW1Hzv6qdir5",
        "outputId": "3a3980a3-aade-4c8a-edb1-9f3a1aa2fc82"
      },
      "execution_count": 2,
      "outputs": [
        {
          "output_type": "stream",
          "name": "stdout",
          "text": [
            "2\n",
            "torch.Size([10, 784])\n",
            "torch.Size([10])\n"
          ]
        }
      ]
    },
    {
      "cell_type": "code",
      "source": [
        "input = torch.randn(1, 1, 28, 28)\n",
        "out = net(input)\n",
        "print(out)"
      ],
      "metadata": {
        "colab": {
          "base_uri": "https://localhost:8080/"
        },
        "id": "UvBvpEccdk8A",
        "outputId": "20a618d5-cd9f-4309-be76-8ac20ab57631"
      },
      "execution_count": 3,
      "outputs": [
        {
          "output_type": "stream",
          "name": "stdout",
          "text": [
            "tensor([[ 1.1170,  0.0909,  0.1573, -1.5932, -0.2604,  0.1902,  0.2116, -0.4925,\n",
            "          1.0346, -0.1222]], grad_fn=<AddmmBackward0>)\n"
          ]
        }
      ]
    },
    {
      "cell_type": "code",
      "source": [
        "net.zero_grad()\n",
        "out.backward(torch.randn(1, 10))"
      ],
      "metadata": {
        "id": "pZRvSkxRdnAg"
      },
      "execution_count": 4,
      "outputs": []
    },
    {
      "cell_type": "code",
      "source": [
        "output = net(input)\n",
        "target = torch.randn(10)  # a dummy target, for example\n",
        "target = target.view(1, -1)  # make it the same shape as output\n",
        "criterion = nn.MSELoss()\n",
        "\n",
        "loss = criterion(output, target)\n",
        "print(loss)"
      ],
      "metadata": {
        "colab": {
          "base_uri": "https://localhost:8080/"
        },
        "id": "KjOEnAujdnH9",
        "outputId": "e9124656-a490-428b-e968-4881f8dd5a6d"
      },
      "execution_count": 5,
      "outputs": [
        {
          "output_type": "stream",
          "name": "stdout",
          "text": [
            "tensor(1.1706, grad_fn=<MseLossBackward0>)\n"
          ]
        }
      ]
    },
    {
      "cell_type": "code",
      "source": [
        "print(loss.grad_fn)  # MSELoss\n",
        "print(loss.grad_fn.next_functions[0][0])  # Linear"
      ],
      "metadata": {
        "colab": {
          "base_uri": "https://localhost:8080/"
        },
        "id": "OUiEbaWRd3jo",
        "outputId": "ad569078-8b38-432c-d1e3-6e3499e46ac1"
      },
      "execution_count": 6,
      "outputs": [
        {
          "output_type": "stream",
          "name": "stdout",
          "text": [
            "<MseLossBackward0 object at 0x7a78dbbe2320>\n",
            "<AddmmBackward0 object at 0x7a79b3410160>\n"
          ]
        }
      ]
    },
    {
      "cell_type": "code",
      "source": [
        "net.zero_grad()     # zeroes the gradient buffers of all parameters\n",
        "\n",
        "print('fc.bias.grad before backward')\n",
        "print(net.fc.bias.grad)\n",
        "\n",
        "loss.backward()\n",
        "\n",
        "print('fc.bias.grad after backward')\n",
        "print(net.fc.bias.grad)"
      ],
      "metadata": {
        "colab": {
          "base_uri": "https://localhost:8080/"
        },
        "id": "P0bQiXiNd3mm",
        "outputId": "382ddcfa-1e9b-4b5c-e5b6-12ab860f8896"
      },
      "execution_count": 7,
      "outputs": [
        {
          "output_type": "stream",
          "name": "stdout",
          "text": [
            "fc.bias.grad before backward\n",
            "None\n",
            "fc.bias.grad after backward\n",
            "tensor([ 0.3358, -0.0371,  0.0412, -0.4336,  0.1119,  0.0971,  0.2131, -0.0224,\n",
            "         0.1958, -0.2412])\n"
          ]
        }
      ]
    },
    {
      "cell_type": "code",
      "source": [
        "import torchvision\n",
        "import torchvision.transforms as transforms"
      ],
      "metadata": {
        "id": "zRwmzs9XeA3S"
      },
      "execution_count": 8,
      "outputs": []
    },
    {
      "cell_type": "code",
      "source": [
        "transform = transforms.Compose(\n",
        "    [transforms.ToTensor(),\n",
        "     transforms.Normalize((0.5), (0.5))])\n",
        "\n",
        "batch_size = 8\n",
        "\n",
        "trainset = torchvision.datasets.MNIST(root='./data', train=True,\n",
        "                                        download=True, transform=transform)\n",
        "trainloader = torch.utils.data.DataLoader(trainset, batch_size=batch_size,\n",
        "                                          shuffle=True, num_workers=2)\n",
        "\n",
        "testset = torchvision.datasets.MNIST(root='./data', train=False,\n",
        "                                       download=True, transform=transform)\n",
        "testloader = torch.utils.data.DataLoader(testset, batch_size=batch_size,\n",
        "                                         shuffle=False, num_workers=2)\n",
        "\n",
        "classes = ('0', '1', '2', '3', '4', '5', '6', '7', '8', '9')"
      ],
      "metadata": {
        "colab": {
          "base_uri": "https://localhost:8080/"
        },
        "id": "vu0PICsxeA6w",
        "outputId": "0a4926a0-440e-4a02-a576-f152906f2bd2"
      },
      "execution_count": 9,
      "outputs": [
        {
          "output_type": "stream",
          "name": "stdout",
          "text": [
            "Downloading http://yann.lecun.com/exdb/mnist/train-images-idx3-ubyte.gz\n",
            "Failed to download (trying next):\n",
            "HTTP Error 503: Service Unavailable\n",
            "\n",
            "Downloading https://ossci-datasets.s3.amazonaws.com/mnist/train-images-idx3-ubyte.gz\n",
            "Downloading https://ossci-datasets.s3.amazonaws.com/mnist/train-images-idx3-ubyte.gz to ./data/MNIST/raw/train-images-idx3-ubyte.gz\n"
          ]
        },
        {
          "output_type": "stream",
          "name": "stderr",
          "text": [
            "100%|██████████| 9912422/9912422 [00:00<00:00, 48504705.42it/s]\n"
          ]
        },
        {
          "output_type": "stream",
          "name": "stdout",
          "text": [
            "Extracting ./data/MNIST/raw/train-images-idx3-ubyte.gz to ./data/MNIST/raw\n",
            "\n",
            "Downloading http://yann.lecun.com/exdb/mnist/train-labels-idx1-ubyte.gz\n",
            "Failed to download (trying next):\n",
            "HTTP Error 503: Service Unavailable\n",
            "\n",
            "Downloading https://ossci-datasets.s3.amazonaws.com/mnist/train-labels-idx1-ubyte.gz\n",
            "Downloading https://ossci-datasets.s3.amazonaws.com/mnist/train-labels-idx1-ubyte.gz to ./data/MNIST/raw/train-labels-idx1-ubyte.gz\n"
          ]
        },
        {
          "output_type": "stream",
          "name": "stderr",
          "text": [
            "100%|██████████| 28881/28881 [00:00<00:00, 1642406.53it/s]"
          ]
        },
        {
          "output_type": "stream",
          "name": "stdout",
          "text": [
            "Extracting ./data/MNIST/raw/train-labels-idx1-ubyte.gz to ./data/MNIST/raw\n",
            "\n",
            "Downloading http://yann.lecun.com/exdb/mnist/t10k-images-idx3-ubyte.gz\n",
            "Failed to download (trying next):\n",
            "HTTP Error 503: Service Unavailable\n",
            "\n",
            "Downloading https://ossci-datasets.s3.amazonaws.com/mnist/t10k-images-idx3-ubyte.gz\n"
          ]
        },
        {
          "output_type": "stream",
          "name": "stderr",
          "text": [
            "\n"
          ]
        },
        {
          "output_type": "stream",
          "name": "stdout",
          "text": [
            "Downloading https://ossci-datasets.s3.amazonaws.com/mnist/t10k-images-idx3-ubyte.gz to ./data/MNIST/raw/t10k-images-idx3-ubyte.gz\n"
          ]
        },
        {
          "output_type": "stream",
          "name": "stderr",
          "text": [
            "100%|██████████| 1648877/1648877 [00:00<00:00, 12912129.30it/s]\n"
          ]
        },
        {
          "output_type": "stream",
          "name": "stdout",
          "text": [
            "Extracting ./data/MNIST/raw/t10k-images-idx3-ubyte.gz to ./data/MNIST/raw\n",
            "\n",
            "Downloading http://yann.lecun.com/exdb/mnist/t10k-labels-idx1-ubyte.gz\n",
            "Failed to download (trying next):\n",
            "HTTP Error 503: Service Unavailable\n",
            "\n",
            "Downloading https://ossci-datasets.s3.amazonaws.com/mnist/t10k-labels-idx1-ubyte.gz\n",
            "Downloading https://ossci-datasets.s3.amazonaws.com/mnist/t10k-labels-idx1-ubyte.gz to ./data/MNIST/raw/t10k-labels-idx1-ubyte.gz\n"
          ]
        },
        {
          "output_type": "stream",
          "name": "stderr",
          "text": [
            "100%|██████████| 4542/4542 [00:00<00:00, 5526698.22it/s]"
          ]
        },
        {
          "output_type": "stream",
          "name": "stdout",
          "text": [
            "Extracting ./data/MNIST/raw/t10k-labels-idx1-ubyte.gz to ./data/MNIST/raw\n",
            "\n"
          ]
        },
        {
          "output_type": "stream",
          "name": "stderr",
          "text": [
            "\n"
          ]
        }
      ]
    },
    {
      "cell_type": "code",
      "source": [
        "import matplotlib.pyplot as plt\n",
        "import numpy as np\n",
        "\n",
        "# functions to show an image\n",
        "def imshow(img):\n",
        "    img = img / 2 + 0.5     # unnormalize\n",
        "    npimg = img.numpy()\n",
        "    plt.imshow(np.transpose(npimg, (1, 2, 0)))\n",
        "    plt.show()\n",
        "\n",
        "\n",
        "# get some random training images\n",
        "dataiter = iter(trainloader)\n",
        "images, labels = next(dataiter)\n",
        "\n",
        "# show images\n",
        "imshow(torchvision.utils.make_grid(images))\n",
        "# print labels\n",
        "print(' '.join(f'{classes[labels[j]]:5s}' for j in range(batch_size)))"
      ],
      "metadata": {
        "colab": {
          "base_uri": "https://localhost:8080/",
          "height": 182
        },
        "id": "SnxWW7TreA9m",
        "outputId": "f130fd5e-7f80-4b2d-cdc9-615d77979748"
      },
      "execution_count": 10,
      "outputs": [
        {
          "output_type": "stream",
          "name": "stderr",
          "text": [
            "/usr/lib/python3.10/multiprocessing/popen_fork.py:66: RuntimeWarning: os.fork() was called. os.fork() is incompatible with multithreaded code, and JAX is multithreaded, so this will likely lead to a deadlock.\n",
            "  self.pid = os.fork()\n"
          ]
        },
        {
          "output_type": "display_data",
          "data": {
            "text/plain": [
              "<Figure size 640x480 with 1 Axes>"
            ],
            "image/png": "[encoded data removed]"
          },
          "metadata": {}
        },
        {
          "output_type": "stream",
          "name": "stdout",
          "text": [
            "1     6     2     9     4     0     1     8    \n"
          ]
        }
      ]
    },
    {
      "cell_type": "code",
      "source": [
        "class Net(nn.Module):\n",
        "\n",
        "    def __init__(self):\n",
        "        super(Net, self).__init__()\n",
        "        self.fc = nn.Linear(28*28, 10)\n",
        "\n",
        "    def forward(self, x):\n",
        "        x = torch.flatten(x, 1) # flatten all dimensions except the batch dimension\n",
        "        x = self.fc(x)\n",
        "        return x\n",
        "\n",
        "net = Net()"
      ],
      "metadata": {
        "id": "CcebXWgGeA_8"
      },
      "execution_count": 11,
      "outputs": []
    },
    {
      "cell_type": "code",
      "source": [
        "import torch.optim as optim\n",
        "\n",
        "criterion = nn.CrossEntropyLoss()\n",
        "optimizer = optim.SGD(net.parameters(), lr=0.001, momentum=0.9)"
      ],
      "metadata": {
        "id": "NEroNqBBd3pb"
      },
      "execution_count": 12,
      "outputs": []
    },
    {
      "cell_type": "code",
      "source": [
        "for epoch in range(10):  # loop over the dataset multiple times\n",
        "    running_loss = 0.0\n",
        "    for i, data in enumerate(trainloader, 0):\n",
        "        # get the inputs; data is a list of [inputs, labels]\n",
        "        inputs, labels = data\n",
        "\n",
        "        # zero the parameter gradients\n",
        "        optimizer.zero_grad()\n",
        "\n",
        "        # forward + backward + optimize\n",
        "        outputs = net(inputs)\n",
        "        loss = criterion(outputs, labels)\n",
        "        loss.backward()\n",
        "        optimizer.step()\n",
        "\n",
        "        # print statistics\n",
        "        running_loss += loss.item()\n",
        "        if i % 2000 == 1999:    # print every 2000 mini-batches\n",
        "            print(f'[{epoch + 1}, {i + 1:5d}] loss: {running_loss / 2000:.3f}')\n",
        "            running_loss = 0.0\n",
        "\n",
        "print('Finished Training')"
      ],
      "metadata": {
        "colab": {
          "base_uri": "https://localhost:8080/"
        },
        "id": "62OE4wJxd3sX",
        "outputId": "8ea53ac9-f372-46b7-e80b-79b16eaf4f28"
      },
      "execution_count": 13,
      "outputs": [
        {
          "output_type": "stream",
          "name": "stdout",
          "text": [
            "[1,  2000] loss: 0.530\n",
            "[1,  4000] loss: 0.372\n",
            "[1,  6000] loss: 0.349\n",
            "[2,  2000] loss: 0.336\n",
            "[2,  4000] loss: 0.319\n",
            "[2,  6000] loss: 0.310\n",
            "[3,  2000] loss: 0.292\n",
            "[3,  4000] loss: 0.308\n",
            "[3,  6000] loss: 0.318\n",
            "[4,  2000] loss: 0.309\n",
            "[4,  4000] loss: 0.287\n",
            "[4,  6000] loss: 0.306\n",
            "[5,  2000] loss: 0.291\n",
            "[5,  4000] loss: 0.300\n",
            "[5,  6000] loss: 0.297\n",
            "[6,  2000] loss: 0.280\n",
            "[6,  4000] loss: 0.301\n",
            "[6,  6000] loss: 0.283\n",
            "[7,  2000] loss: 0.280\n",
            "[7,  4000] loss: 0.289\n",
            "[7,  6000] loss: 0.286\n",
            "[8,  2000] loss: 0.287\n",
            "[8,  4000] loss: 0.288\n",
            "[8,  6000] loss: 0.290\n",
            "[9,  2000] loss: 0.269\n",
            "[9,  4000] loss: 0.288\n",
            "[9,  6000] loss: 0.291\n",
            "[10,  2000] loss: 0.290\n",
            "[10,  4000] loss: 0.269\n",
            "[10,  6000] loss: 0.277\n",
            "Finished Training\n"
          ]
        }
      ]
    },
    {
      "cell_type": "code",
      "source": [
        "PATH = './cifar_net.pth'\n",
        "torch.save(net.state_dict(), PATH)"
      ],
      "metadata": {
        "id": "PlLx0lNwea4Y"
      },
      "execution_count": 14,
      "outputs": []
    },
    {
      "cell_type": "code",
      "source": [
        "dataiter = iter(testloader)\n",
        "images, labels = next(dataiter)\n",
        "\n",
        "# print images\n",
        "imshow(torchvision.utils.make_grid(images))\n",
        "print('GroundTruth: ', ' '.join(f'{classes[labels[j]]:5s}' for j in range(8)))"
      ],
      "metadata": {
        "colab": {
          "base_uri": "https://localhost:8080/",
          "height": 147
        },
        "id": "q56Of8-Lea7B",
        "outputId": "b7538f93-6e1e-46c0-905b-425ce886584b"
      },
      "execution_count": 15,
      "outputs": [
        {
          "output_type": "display_data",
          "data": {
            "text/plain": [
              "<Figure size 640x480 with 1 Axes>"
            ],
            "image/png": "[encoded data removed]"
          },
          "metadata": {}
        },
        {
          "output_type": "stream",
          "name": "stdout",
          "text": [
            "GroundTruth:  7     2     1     0     4     1     4     9    \n"
          ]
        }
      ]
    },
    {
      "cell_type": "code",
      "source": [
        "net = Net()\n",
        "net.load_state_dict(torch.load(PATH))"
      ],
      "metadata": {
        "colab": {
          "base_uri": "https://localhost:8080/"
        },
        "id": "pCMJMAzHea9z",
        "outputId": "5e01c895-bb77-45a0-cdee-9aa0c486d0d3"
      },
      "execution_count": 16,
      "outputs": [
        {
          "output_type": "execute_result",
          "data": {
            "text/plain": [
              "<All keys matched successfully>"
            ]
          },
          "metadata": {},
          "execution_count": 16
        }
      ]
    },
    {
      "cell_type": "code",
      "source": [
        "outputs = net(images)\n",
        "print(np.round(outputs.detach().numpy(), 2))"
      ],
      "metadata": {
        "colab": {
          "base_uri": "https://localhost:8080/"
        },
        "id": "OLpawCn9ebAK",
        "outputId": "da2a914b-34a0-4ac1-c89e-453784b86c5e"
      },
      "execution_count": 17,
      "outputs": [
        {
          "output_type": "stream",
          "name": "stdout",
          "text": [
            "[[  0.16 -11.48   1.09   6.45  -3.38   0.31 -10.26  12.45   0.4    3.24]\n",
            " [  6.05   0.95  13.26   6.05 -15.38   7.21   9.06 -21.03   4.99 -12.11]\n",
            " [ -8.46   7.7    2.02   0.15  -2.9   -0.19   0.15   1.18   0.62  -1.53]\n",
            " [ 13.89 -14.38   3.22  -0.83  -6.48   2.23   2.97  -0.6   -0.59  -0.9 ]\n",
            " [ -0.99  -8.35   1.24  -4.22   7.05  -2.18   0.87   1.06   0.41   2.78]\n",
            " [ -9.57   9.01   1.79   1.04  -4.02  -2.04  -2.62   3.05   1.82   0.15]\n",
            " [ -5.81  -7.72  -6.68  -0.75   8.84   3.3   -1.81   1.56   3.64   3.87]\n",
            " [-11.48   2.5   -1.27  -0.63   1.24   0.94  -3.28   0.35   0.87   7.33]]\n"
          ]
        }
      ]
    },
    {
      "cell_type": "code",
      "source": [
        "_, predicted = torch.max(outputs, 1)\n",
        "\n",
        "# print images\n",
        "imshow(torchvision.utils.make_grid(images))\n",
        "print('Predicted: ', ' '.join(f'{classes[predicted[j]]:5s}' for j in range(8)))"
      ],
      "metadata": {
        "colab": {
          "base_uri": "https://localhost:8080/",
          "height": 147
        },
        "id": "IxhA-fF-fAoe",
        "outputId": "3a83d787-d715-4bd4-e9cf-eea5aa63a10a"
      },
      "execution_count": 18,
      "outputs": [
        {
          "output_type": "display_data",
          "data": {
            "text/plain": [
              "<Figure size 640x480 with 1 Axes>"
            ],
            "image/png": "[encoded data removed]"
          },
          "metadata": {}
        },
        {
          "output_type": "stream",
          "name": "stdout",
          "text": [
            "Predicted:  7     2     1     0     4     1     4     9    \n"
          ]
        }
      ]
    },
    {
      "cell_type": "code",
      "source": [
        "correct = 0\n",
        "total = 0\n",
        "# since we're not training, we don't need to calculate the gradients for our outputs\n",
        "with torch.no_grad():\n",
        "    for data in testloader:\n",
        "        images, labels = data\n",
        "        # calculate outputs by running images through the network\n",
        "        outputs = net(images)\n",
        "        # the class with the highest energy is what we choose as prediction\n",
        "        _, predicted = torch.max(outputs.data, 1)\n",
        "        total += labels.size(0)\n",
        "        correct += (predicted == labels).sum().item()\n",
        "\n",
        "print(f'Accuracy of the network on the {total} test images: {100 * correct // total} %')"
      ],
      "metadata": {
        "colab": {
          "base_uri": "https://localhost:8080/"
        },
        "id": "hWqrm5SyfArZ",
        "outputId": "e623fd5e-a1cf-49ba-c583-da62da51de4a"
      },
      "execution_count": 19,
      "outputs": [
        {
          "output_type": "stream",
          "name": "stdout",
          "text": [
            "Accuracy of the network on the 10000 test images: 92 %\n"
          ]
        }
      ]
    },
    {
      "cell_type": "code",
      "source": [
        "# prepare to count predictions for each class\n",
        "correct_pred = {classname: 0 for classname in classes}\n",
        "total_pred = {classname: 0 for classname in classes}\n",
        "\n",
        "# again no gradients needed\n",
        "with torch.no_grad():\n",
        "    for data in testloader:\n",
        "        images, labels = data\n",
        "        outputs = net(images)\n",
        "        _, predictions = torch.max(outputs, 1)\n",
        "        # collect the correct predictions for each class\n",
        "        for label, prediction in zip(labels, predictions):\n",
        "            if label == prediction:\n",
        "                correct_pred[classes[label]] += 1\n",
        "            total_pred[classes[label]] += 1\n",
        "\n",
        "\n",
        "# print accuracy for each class\n",
        "for classname, correct_count in correct_pred.items():\n",
        "    accuracy = 100 * float(correct_count) / total_pred[classname]\n",
        "    print(f'Accuracy for class: {classname:5s} is {accuracy:.1f} %')"
      ],
      "metadata": {
        "colab": {
          "base_uri": "https://localhost:8080/"
        },
        "id": "KoQuJes2fAua",
        "outputId": "40252a8a-928f-4895-dc9a-a213f31b9c14"
      },
      "execution_count": 20,
      "outputs": [
        {
          "output_type": "stream",
          "name": "stdout",
          "text": [
            "Accuracy for class: 0     is 97.9 %\n",
            "Accuracy for class: 1     is 98.2 %\n",
            "Accuracy for class: 2     is 90.8 %\n",
            "Accuracy for class: 3     is 90.4 %\n",
            "Accuracy for class: 4     is 91.2 %\n",
            "Accuracy for class: 5     is 85.4 %\n",
            "Accuracy for class: 6     is 96.6 %\n",
            "Accuracy for class: 7     is 93.1 %\n",
            "Accuracy for class: 8     is 87.4 %\n",
            "Accuracy for class: 9     is 90.8 %\n"
          ]
        }
      ]
    },
    {
      "cell_type": "code",
      "source": [
        "device = 'cuda' if torch.cuda.is_available() else 'cpu'\n",
        "\n",
        "# Assuming that we are on a CUDA machine, this should print a CUDA device:\n",
        "\n",
        "print(device)"
      ],
      "metadata": {
        "colab": {
          "base_uri": "https://localhost:8080/"
        },
        "id": "s61DNoyWfAxM",
        "outputId": "1b86799b-20f2-4bcd-e6b0-e485b3f28900"
      },
      "execution_count": 21,
      "outputs": [
        {
          "output_type": "stream",
          "name": "stdout",
          "text": [
            "cpu\n"
          ]
        }
      ]
    },
    {
      "cell_type": "code",
      "source": [
        "class MLPClassifier(nn.Module):\n",
        "    def __init__(self):\n",
        "        super(MLPClassifier, self).__init__()\n",
        "        self.fc1 = nn.Linear(784, 20)  # First fully connected layer\n",
        "        self.relu = nn.ReLU()  # ReLU activation function\n",
        "        self.fc2 = nn.Linear(20, 10)  # Second fully connected layer\n",
        "\n",
        "    def forward(self, x):\n",
        "        x = x.view(x.size(0), -1)\n",
        "        x = self.fc1(x)  # Pass input through the first fully connected layer\n",
        "        x = self.relu(x)  # Apply ReLU activation\n",
        "        x = self.fc2(x)  # Pass output through the second fully connected layer\n",
        "        return x\n",
        "\n",
        "mlp = MLPClassifier()\n",
        "mlp.to(device)\n",
        "print(mlp)"
      ],
      "metadata": {
        "colab": {
          "base_uri": "https://localhost:8080/"
        },
        "id": "RnLDut9PfAzz",
        "outputId": "c4c0926c-70ed-45e8-c4ba-3ca9d06f93fd"
      },
      "execution_count": 22,
      "outputs": [
        {
          "output_type": "stream",
          "name": "stdout",
          "text": [
            "MLPClassifier(\n",
            "  (fc1): Linear(in_features=784, out_features=20, bias=True)\n",
            "  (relu): ReLU()\n",
            "  (fc2): Linear(in_features=20, out_features=10, bias=True)\n",
            ")\n"
          ]
        }
      ]
    },
    {
      "cell_type": "code",
      "source": [
        "optimizer = optim.SGD(mlp.parameters(), lr=0.001, momentum=0.9)"
      ],
      "metadata": {
        "id": "3COUOts4fkQK"
      },
      "execution_count": 23,
      "outputs": []
    },
    {
      "cell_type": "code",
      "source": [
        "# TODO: create a graph that shows how the losses and accuracies of the training and validation sets change over the epochs\n",
        "for epoch in range(10):  # loop over the dataset multiple times\n",
        "    running_loss = 0.0\n",
        "    for i, data in enumerate(trainloader, 0):\n",
        "        # get the inputs; data is a list of [inputs, labels]\n",
        "        inputs, labels = data[0].to(device), data[1].to(device)\n",
        "\n",
        "        # zero the parameter gradients\n",
        "        optimizer.zero_grad()\n",
        "\n",
        "        # forward + backward + optimize\n",
        "        outputs = mlp(inputs)\n",
        "        loss = criterion(outputs, labels)\n",
        "        loss.backward()\n",
        "        optimizer.step()\n",
        "\n",
        "        # print statistics\n",
        "        running_loss += loss.item()\n",
        "        if i % 2000 == 1999:    # print every 2000 mini-batches\n",
        "            print(f'[{epoch + 1}, {i + 1:5d}] loss: {running_loss / 2000:.3f}')\n",
        "            running_loss = 0.0\n",
        "\n",
        "print('Finished Training')"
      ],
      "metadata": {
        "colab": {
          "base_uri": "https://localhost:8080/"
        },
        "id": "R6Kzzg6-fkVw",
        "outputId": "2bda2400-2860-4d51-8b01-daa60cea03d9"
      },
      "execution_count": 24,
      "outputs": [
        {
          "output_type": "stream",
          "name": "stdout",
          "text": [
            "[1,  2000] loss: 0.657\n",
            "[1,  4000] loss: 0.368\n",
            "[1,  6000] loss: 0.342\n",
            "[2,  2000] loss: 0.280\n",
            "[2,  4000] loss: 0.277\n",
            "[2,  6000] loss: 0.266\n",
            "[3,  2000] loss: 0.230\n",
            "[3,  4000] loss: 0.218\n",
            "[3,  6000] loss: 0.216\n",
            "[4,  2000] loss: 0.200\n",
            "[4,  4000] loss: 0.206\n",
            "[4,  6000] loss: 0.190\n",
            "[5,  2000] loss: 0.182\n",
            "[5,  4000] loss: 0.180\n",
            "[5,  6000] loss: 0.190\n",
            "[6,  2000] loss: 0.177\n",
            "[6,  4000] loss: 0.169\n",
            "[6,  6000] loss: 0.176\n",
            "[7,  2000] loss: 0.161\n",
            "[7,  4000] loss: 0.179\n",
            "[7,  6000] loss: 0.161\n",
            "[8,  2000] loss: 0.155\n",
            "[8,  4000] loss: 0.162\n",
            "[8,  6000] loss: 0.160\n",
            "[9,  2000] loss: 0.146\n",
            "[9,  4000] loss: 0.147\n",
            "[9,  6000] loss: 0.161\n",
            "[10,  2000] loss: 0.143\n",
            "[10,  4000] loss: 0.148\n",
            "[10,  6000] loss: 0.158\n",
            "Finished Training\n"
          ]
        }
      ]
    },
    {
      "cell_type": "code",
      "source": [
        "correct = 0\n",
        "total = 0\n",
        "# since we're not training, we don't need to calculate the gradients for our outputs\n",
        "with torch.no_grad():\n",
        "    for data in testloader:\n",
        "        images, labels = data[0].to(device), data[1].to(device)\n",
        "        # calculate outputs by running images through the network\n",
        "        outputs = mlp(images)\n",
        "        # the class with the highest energy is what we choose as prediction\n",
        "        _, predicted = torch.max(outputs.data, 1)\n",
        "        total += labels.size(0)\n",
        "        correct += (predicted == labels).sum().item()\n",
        "\n",
        "print(f'Accuracy of the network on the {total} test images: {100 * correct // total} %')"
      ],
      "metadata": {
        "colab": {
          "base_uri": "https://localhost:8080/"
        },
        "id": "qMIumpOpfkY1",
        "outputId": "3ae17d56-8413-4154-ad79-533a83cf07db"
      },
      "execution_count": 25,
      "outputs": [
        {
          "output_type": "stream",
          "name": "stdout",
          "text": [
            "Accuracy of the network on the 10000 test images: 95 %\n"
          ]
        }
      ]
    },
    {
      "cell_type": "code",
      "source": [
        "import torch\n",
        "import torch.nn as nn\n",
        "import torch.optim as optim\n",
        "from torchvision import datasets, transforms\n",
        "from torch.utils.data import DataLoader\n",
        "import numpy as np\n",
        "import matplotlib.pyplot as plt\n",
        "\n",
        "# Define the denoising autoencoder model\n",
        "class DenoisingAutoencoder(nn.Module):\n",
        "    def __init__(self):\n",
        "        super(DenoisingAutoencoder, self).__init__()\n",
        "        self.encoder = nn.Sequential(\n",
        "            nn.Linear(28*28, 128),\n",
        "            nn.ReLU(),\n",
        "            nn.Linear(128, 64),\n",
        "            nn.ReLU()\n",
        "        )\n",
        "        self.decoder = nn.Sequential(\n",
        "            nn.Linear(64, 128),\n",
        "            nn.ReLU(),\n",
        "            nn.Linear(128, 28*28),\n",
        "            nn.Sigmoid()\n",
        "        )\n",
        "\n",
        "    def forward(self, x):\n",
        "        x = self.encoder(x)\n",
        "        x = self.decoder(x)\n",
        "        return x\n",
        "\n",
        "\n",
        "\n",
        "\n",
        "\n",
        "# Add noise to the images\n",
        "def add_noise(imgs, noise_factor=0.5):\n",
        "    noise = torch.randn_like(imgs) * noise_factor\n",
        "    noisy_imgs = imgs + noise\n",
        "    return torch.clamp(noisy_imgs, 0., 1.)\n",
        "\n",
        "# Define the model, loss function, and optimizer\n",
        "device = torch.device(\"cuda\" if torch.cuda.is_available() else \"cpu\")\n",
        "model = DenoisingAutoencoder().to(device)\n",
        "criterion = nn.MSELoss()\n",
        "optimizer = optim.Adam(model.parameters(), lr=0.001)\n",
        "\n",
        "# Train the model\n",
        "num_epochs = 10\n",
        "for epoch in range(num_epochs):\n",
        "    model.train()\n",
        "    train_loss = 0.0\n",
        "    for data in trainloader:\n",
        "        inputs, _ = data\n",
        "        inputs = inputs.view(inputs.size(0), -1).to(device)\n",
        "        noisy_inputs = add_noise(inputs).to(device)\n",
        "\n",
        "        optimizer.zero_grad()\n",
        "        outputs = model(noisy_inputs)\n",
        "        loss = criterion(outputs, inputs)\n",
        "        loss.backward()\n",
        "        optimizer.step()\n",
        "\n",
        "        train_loss += loss.item() * inputs.size(0)\n",
        "\n",
        "    train_loss /= len(trainloader.dataset)\n",
        "    print(f\"Epoch [{epoch+1}/{num_epochs}], Train Loss: {train_loss:.4f}\")\n",
        "\n",
        "# Test the model\n",
        "model.eval()\n",
        "test_loss = 0.0\n",
        "with torch.no_grad():\n",
        "    for data in testloader:\n",
        "        inputs, _ = data\n",
        "        inputs = inputs.view(inputs.size(0), -1).to(device)\n",
        "        noisy_inputs = add_noise(inputs).to(device)\n",
        "\n",
        "        outputs = model(noisy_inputs)\n",
        "        loss = criterion(outputs, inputs)\n",
        "        test_loss += loss.item() * inputs.size(0)\n",
        "\n",
        "    test_loss /= len(testloader.dataset)\n",
        "    print(f\"Test Loss: {test_loss:.4f}\")\n",
        "\n",
        "# Display some results\n",
        "\n",
        "def display_results(inputs, outputs, num_images=10):\n",
        "    inputs = inputs.cpu().numpy().reshape(-1, 28, 28)\n",
        "    outputs = outputs.cpu().numpy().reshape(-1, 28, 28)\n",
        "    num_images = min(num_images, len(inputs))\n",
        "    plt.figure(figsize=(20, 4))\n",
        "    for i in range(num_images):\n",
        "        plt.subplot(2, num_images, i + 1)\n",
        "        plt.imshow(inputs[i], cmap='gray')\n",
        "        plt.title(\"Noisy\")\n",
        "        plt.axis('off')\n",
        "        plt.subplot(2, num_images, i + 1 + num_images)\n",
        "        plt.imshow(outputs[i], cmap='gray')\n",
        "        plt.title(\"Denoised\")\n",
        "        plt.axis('off')\n",
        "    plt.show()\n",
        "\n",
        "\n",
        "\n",
        "# Display some results\n",
        "with torch.no_grad():\n",
        "    inputs, _ = next(iter(testloader))\n",
        "    inputs = inputs.view(inputs.size(0), -1).to(device)\n",
        "    noisy_inputs = add_noise(inputs).to(device)\n",
        "    outputs = model(noisy_inputs)\n",
        "    display_results(inputs, outputs)\n"
      ],
      "metadata": {
        "colab": {
          "base_uri": "https://localhost:8080/",
          "height": 558
        },
        "id": "UCK_Ru0yfkbd",
        "outputId": "cddda745-26e9-4e43-dca5-94b1c282d807"
      },
      "execution_count": 26,
      "outputs": [
        {
          "output_type": "stream",
          "name": "stdout",
          "text": [
            "Epoch [1/10], Train Loss: 0.9181\n",
            "Epoch [2/10], Train Loss: 0.8990\n",
            "Epoch [3/10], Train Loss: 0.8883\n",
            "Epoch [4/10], Train Loss: 0.8850\n",
            "Epoch [5/10], Train Loss: 0.8835\n",
            "Epoch [6/10], Train Loss: 0.8824\n",
            "Epoch [7/10], Train Loss: 0.8815\n",
            "Epoch [8/10], Train Loss: 0.8802\n",
            "Epoch [9/10], Train Loss: 0.8789\n",
            "Epoch [10/10], Train Loss: 0.8779\n",
            "Test Loss: 0.8763\n"
          ]
        },
        {
          "output_type": "display_data",
          "data": {
            "text/plain": [
              "<Figure size 2000x400 with 16 Axes>"
            ],
            "image/png": "[encoded data removed]"
          },
          "metadata": {}
        }
      ]
    }
  ]
}