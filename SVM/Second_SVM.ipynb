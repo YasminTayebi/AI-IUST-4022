{
  "nbformat": 4,
  "nbformat_minor": 0,
  "metadata": {
    "colab": {
      "provenance": []
    },
    "kernelspec": {
      "name": "python3",
      "display_name": "Python 3"
    },
    "language_info": {
      "name": "python"
    }
  },
  "cells": [
    {
      "cell_type": "code",
      "source": [
        "import numpy as np\n",
        "import tensorflow as tf\n",
        "from sklearn import svm\n",
        "from sklearn.metrics import accuracy_score\n",
        "\n",
        "# Load the MNIST dataset\n",
        "mnist = tf.keras.datasets.mnist\n",
        "(x_train, y_train), (x_test, y_test) = mnist.load_data()\n",
        "\n",
        "# Flatten the images (28x28) into 1D arrays (784,)\n",
        "x_train = x_train.reshape(-1, 28*28)\n",
        "x_test = x_test.reshape(-1, 28*28)\n",
        "\n",
        "# Normalize the data to the range [0, 1]\n",
        "x_train = x_train.astype('float32') / 255.0\n",
        "x_test = x_test.astype('float32') / 255.0\n",
        "\n",
        "# Train an SVM classifier\n",
        "clf = svm.SVC(kernel='linear', C=1.0)\n",
        "clf.fit(x_train, y_train)\n",
        "\n",
        "# Predict the labels for the test set\n",
        "y_pred = clf.predict(x_test)\n",
        "\n",
        "# Evaluate the accuracy\n",
        "accuracy = accuracy_score(y_test, y_pred)\n",
        "print(f'Test accuracy: {accuracy}')\n"
      ],
      "metadata": {
        "id": "_PThzsW5qF98",
        "colab": {
          "base_uri": "https://localhost:8080/"
        },
        "outputId": "e99b146f-f416-4a64-841a-2154e358d2e4"
      },
      "execution_count": 2,
      "outputs": [
        {
          "output_type": "stream",
          "name": "stdout",
          "text": [
            "Test accuracy: 0.9404\n"
          ]
        }
      ]
    },
    {
      "cell_type": "code",
      "source": [
        "# Train an SVM classifier with a sigmoid kernel\n",
        "\n",
        "clf_sigmoid = svm.SVC(kernel='sigmoid', C=1.0)\n",
        "clf_sigmoid.fit(x_train, y_train)\n",
        "\n",
        "# Predict the labels for the test set using sigmoid kernel\n",
        "y_pred_sigmoid = clf_sigmoid.predict(x_test)\n",
        "\n",
        "# Evaluate the accuracy for sigmoid kernel\n",
        "accuracy_sigmoid = accuracy_score(y_test, y_pred_sigmoid)\n",
        "print(f'Sigmoid Kernel Test accuracy: {accuracy_sigmoid}')"
      ],
      "metadata": {
        "id": "wEyFvjqdxryZ",
        "colab": {
          "base_uri": "https://localhost:8080/"
        },
        "outputId": "11b17017-89e1-4af9-95cf-f1438c582b92"
      },
      "execution_count": 3,
      "outputs": [
        {
          "output_type": "stream",
          "name": "stdout",
          "text": [
            "Sigmoid Kernel Test accuracy: 0.7759\n"
          ]
        }
      ]
    },
    {
      "cell_type": "code",
      "source": [
        "# Train an SVM classifier with a polynomial kernel\n",
        "clf_poly = svm.SVC(kernel='poly', degree=3, C=1.0)\n",
        "clf_poly.fit(x_train, y_train)\n",
        "\n",
        "# Predict the labels for the test set using polynomial kernel\n",
        "y_pred_poly = clf_poly.predict(x_test)\n",
        "\n",
        "# Evaluate the accuracy for polynomial kernel\n",
        "accuracy_poly = accuracy_score(y_test, y_pred_poly)\n",
        "print(f'Polynomial Kernel Test accuracy: {accuracy_poly}')\n"
      ],
      "metadata": {
        "colab": {
          "base_uri": "https://localhost:8080/"
        },
        "id": "ixc_iKsy2TMn",
        "outputId": "8a9c19ba-1921-4fce-a0a3-366c09e9a761"
      },
      "execution_count": 4,
      "outputs": [
        {
          "output_type": "stream",
          "name": "stdout",
          "text": [
            "Polynomial Kernel Test accuracy: 0.9771\n"
          ]
        }
      ]
    }
  ]
}