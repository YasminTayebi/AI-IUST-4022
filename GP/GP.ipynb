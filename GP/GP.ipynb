{
  "nbformat": 4,
  "nbformat_minor": 0,
  "metadata": {
    "colab": {
      "provenance": []
    },
    "kernelspec": {
      "name": "python3",
      "display_name": "Python 3"
    },
    "language_info": {
      "name": "python"
    }
  },
  "cells": [
    {
      "cell_type": "code",
      "execution_count": 1,
      "metadata": {
        "id": "70m42qsKgz83"
      },
      "outputs": [],
      "source": [
        "import random\n",
        "import math\n",
        "from datetime import datetime\n",
        "import numpy as np\n",
        "from matplotlib import pyplot as plt\n",
        "import pandas as pd\n",
        "from sklearn.metrics import mean_squared_error\n",
        "import copy\n",
        "from statistics import mean\n",
        "import matplotlib.pyplot as plt"
      ]
    },
    {
      "cell_type": "code",
      "source": [
        "Operators = [\"+\", '-', '*', '/', \"sin\" , \"cos\" , \"x\"]\n",
        "Values = list (range(1,11))\n",
        "variable = ['x']"
      ],
      "metadata": {
        "id": "7FqmTOTxg1xE"
      },
      "execution_count": 2,
      "outputs": []
    },
    {
      "cell_type": "code",
      "source": [
        "def function(x):\n",
        "    return 2 * (x**2) + 3 * x + 1\n",
        ""
      ],
      "metadata": {
        "id": "tkDUtvZGg1zu"
      },
      "execution_count": 4,
      "outputs": []
    },
    {
      "cell_type": "code",
      "source": [
        "X_train = np.random.randint(1, 100, size=(20, 1))\n",
        "y_train = function(X_train[:,0])\n",
        "len(X_train)\n",
        "y_train"
      ],
      "metadata": {
        "colab": {
          "base_uri": "https://localhost:8080/"
        },
        "id": "8-reBjifg12m",
        "outputId": "8e9226ac-030f-434d-9885-fc7dafd26174"
      },
      "execution_count": 5,
      "outputs": [
        {
          "output_type": "execute_result",
          "data": {
            "text/plain": [
              "array([  780,  2850,  1225,  7626, 14365,   120,  2016,   435,    15,\n",
              "          91, 10878,  9180,  2850,   861,   120, 12403,   231,  8385,\n",
              "        4753,  1035])"
            ]
          },
          "metadata": {},
          "execution_count": 5
        }
      ]
    },
    {
      "cell_type": "code",
      "source": [
        "class Node() :\n",
        "    def __init__(self , operator , children) :\n",
        "        self.operator = operator\n",
        "        self.children = children\n",
        "        self.isLeaf= False\n",
        "        self.value = 0"
      ],
      "metadata": {
        "id": "Rl8-nGDyg148"
      },
      "execution_count": 6,
      "outputs": []
    },
    {
      "cell_type": "code",
      "source": [
        "class Tree () :\n",
        "    def __init__(self , max_depth = 6) :\n",
        "        self.max_depth = max_depth\n",
        "        self.root = None\n",
        "    def createFromRoot (self , node):\n",
        "        self.root = node\n",
        "\n",
        "    def returnRoot (self):\n",
        "        node = self.root\n",
        "        return node\n",
        "\n",
        "    def create (self):\n",
        "        self.root  = self.grow()\n",
        "\n",
        "    def printTree (self , node = None):\n",
        "        if (node == None):\n",
        "            print(self.to_math_string(self.root))\n",
        "        else:\n",
        "            print(self.to_math_string(node))\n",
        "\n",
        "\n",
        "    def grow (self , depth = 0 ):\n",
        "\n",
        "        temp_op = random.choice(Operators)\n",
        "        temp_rand = random.randint(0 , 10)\n",
        "\n",
        "        if (depth == self.max_depth or temp_rand > 7):\n",
        "            if (temp_op == \"sin\" or temp_op == \"cos\"):\n",
        "                temp_node = Node (operator=temp_op, children=[\"x\"])\n",
        "                temp_node.isLeaf = True\n",
        "                return temp_node\n",
        "            else :\n",
        "                child = random.choice(Values)\n",
        "                temp_node = Node (operator= temp_op , children=[\"x\",child])\n",
        "                temp_node.isLeaf = True\n",
        "                return temp_node\n",
        "\n",
        "        else:\n",
        "            if (temp_op == \"sin\" or temp_op == \"cos\"):\n",
        "                child = self.grow ( depth= depth + 1 )\n",
        "                temp_node = Node (operator= temp_op , children=[child])\n",
        "                return temp_node\n",
        "            else :\n",
        "                left_node  = self.grow ( depth= depth + 1 )\n",
        "                right_node = self.grow ( depth= depth + 1 )\n",
        "                temp_node = Node (operator= temp_op , children=[left_node,right_node])\n",
        "                return temp_node\n",
        "\n",
        "    def to_math_string(self , node):\n",
        "        if isinstance ( node , Node):\n",
        "            if node.isLeaf:\n",
        "                if len(node.children) == 1:\n",
        "                    return f\"{node.operator}({node.children[0]})\"\n",
        "                else:\n",
        "                    return f\"({node.children[0]} {node.operator} {node.children[1]})\"\n",
        "            else:\n",
        "                if len(node.children) == 1:\n",
        "                    return f\"{node.operator}({self.to_math_string(node.children[0])})\"\n",
        "                else:\n",
        "                    return f\"({self.to_math_string(node.children[0])} {node.operator} {self.to_math_string(node.children[1])})\"\n",
        "\n",
        "\n",
        "    def calculate (self , val):\n",
        "        return self.calculator ( self.root , val)\n",
        "\n",
        "\n",
        "    def calculator (self , node , val):\n",
        "        if isinstance (node , Node):\n",
        "            if node.isLeaf:\n",
        "                if len(node.children) == 1:\n",
        "                    node.value = self.SinCosOp (node , val)\n",
        "                    # return node.value\n",
        "                else :\n",
        "                    node.value = self.OtherOp (node , val , node.children[1])\n",
        "                    # return node.value\n",
        "            else:\n",
        "                if len(node.children) == 1:\n",
        "                    temp_val = self.calculator(node.children[0] , val)\n",
        "                    node.value = self.SinCosOp (node , temp_val)\n",
        "                else :\n",
        "                    temp_val1 = self.calculator(node.children[0], val)\n",
        "                    temp_val2 = self.calculator(node.children[1], val)\n",
        "                    node.value = self.OtherOp (node , temp_val1 , temp_val2)\n",
        "            return node.value\n",
        "\n",
        "\n",
        "\n",
        "    def SinCosOp (self , node , val):\n",
        "        if (node.operator == \"sin\"):\n",
        "            return np.sin(val)\n",
        "        if (node.operator == \"cos\"):\n",
        "            return np.cos(val)\n",
        "\n",
        "    def OtherOp (self , node , val1 , val2):\n",
        "        if (node.operator == \"+\"):\n",
        "            return val1+val2\n",
        "        elif (node.operator == \"-\"):\n",
        "            return val1-val2\n",
        "        elif (node.operator == \"*\"):\n",
        "            return val1*val2\n",
        "        elif (node.operator == \"/\"):\n",
        "            if(val2==0):\n",
        "                return 1\n",
        "            return val1/val2\n",
        "        elif (node.operator == \"^\"):\n",
        "            if(val1==0 and val2<0):\n",
        "                    return 1\n",
        "            else:\n",
        "                # return left_val ** right_val\n",
        "                if(val2==0):\n",
        "                    return 1\n",
        "                x = 1\n",
        "                i = 0\n",
        "                while(not flag and i<val2):\n",
        "                    x = x*val1\n",
        "                    i+=1\n",
        "                    if(x>100000 or x<-100000):\n",
        "                        flag = True\n",
        "                        return 1\n",
        "                return x\n",
        "\n",
        "    def TreeToList (self):\n",
        "        root = self.root\n",
        "        nodes = []\n",
        "        self.traverse(root , nodes)\n",
        "        return nodes\n",
        "\n",
        "    def traverse (self , node , nodes):\n",
        "        nodes.append(node)\n",
        "        if (node.isLeaf == False):\n",
        "            for i in range (len(node.children)):\n",
        "                self.traverse (node.children[i] , nodes)\n",
        "\n",
        "    def ReplaceNode (self , selfNode , replaceNode):\n",
        "\n",
        "\n",
        "        root = self.root\n",
        "        self.root = self.traverseToFind (root , selfNode , replaceNode)\n",
        "        # self.printTree(self.root)\n",
        "\n",
        "    def traverseToFind (self ,node , selfNode , replaceNode):\n",
        "        if (node == selfNode ):\n",
        "                node = copy.deepcopy(replaceNode)\n",
        "                return node\n",
        "        else :\n",
        "            if (node.isLeaf == False):\n",
        "                for i in range (len(node.children)):\n",
        "                    node.children[i]= self.traverseToFind(node.children[i] , selfNode , replaceNode)\n",
        "\n",
        "            return node"
      ],
      "metadata": {
        "id": "V6h0Jz1mg175"
      },
      "execution_count": 7,
      "outputs": []
    },
    {
      "cell_type": "code",
      "source": [
        "treeList = []\n",
        "for i in range(25):\n",
        "    my_tree = Tree(random.randint(1, 5))\n",
        "    my_tree.create()\n",
        "    treeList.append(my_tree)\n",
        "    my_tree.printTree()\n",
        "\n",
        "mseTree = []\n",
        "for tree in treeList:\n",
        "    # Example code for calculating MSE here\n",
        "    pass\n",
        "\n",
        "print(mseTree)"
      ],
      "metadata": {
        "colab": {
          "base_uri": "https://localhost:8080/"
        },
        "id": "wk_rKQRLg1-a",
        "outputId": "6be88db9-894d-43ae-9289-c7fdb678f042"
      },
      "execution_count": 10,
      "outputs": [
        {
          "output_type": "stream",
          "name": "stdout",
          "text": [
            "(x / 7)\n",
            "(x - 10)\n",
            "((x / 8) x ((sin(x) * sin((x * 5))) + sin((sin(x) x (x - 10)))))\n",
            "(((cos(x) - (x + 6)) / (x + 6)) + (x + 5))\n",
            "(cos((sin(sin(x)) * (sin(x) + sin(x)))) + (x / 5))\n",
            "(((((x * 1) * (x * 4)) + ((x - 2) - (x - 2))) * cos(x)) / (x / 5))\n",
            "(x - 5)\n",
            "(x x 3)\n",
            "(((x * 10) * (sin(((x - 7) / (x x 8))) + (cos((x - 6)) - (x + 2)))) x (((((x - 8) + (x x 8)) x (x / 7)) x (((x * 8) + (x x 3)) - cos(x))) * (x - 4)))\n",
            "(x * 1)\n",
            "(x - 7)\n",
            "(x / 8)\n",
            "((x + 7) + (x / 8))\n",
            "((((x - 8) * cos(x)) - (x x 10)) + ((x x 7) - sin(sin((x + 9)))))\n",
            "((x * 1) - (x x 1))\n",
            "((x + 1) + (sin(x) x cos(cos(x))))\n",
            "(cos(((((x / 2) / (x * 7)) x (x x 3)) - ((x - 3) * (x * 7)))) * (x / 9))\n",
            "cos(x)\n",
            "(x x 4)\n",
            "sin((((x x 5) - sin((x * 8))) x cos(sin((x * 3)))))\n",
            "((sin(sin(x)) - (x * 8)) x ((((x * 7) / cos(x)) * ((x x 4) / (x - 2))) / sin(x)))\n",
            "((x x 8) * cos(x))\n",
            "(x + 5)\n",
            "((x x 4) x sin(sin(x)))\n",
            "(cos(x) + (cos(x) / cos(x)))\n",
            "[]\n"
          ]
        }
      ]
    },
    {
      "cell_type": "code",
      "source": [
        "\n",
        "\n",
        "# Assuming X_train and y_train are defined elsewhere\n",
        "\n",
        "avg = []\n",
        "for i in range(1000):\n",
        "    bestTrees = []\n",
        "    mseTree = np.array(mseTree)  # Convert mseTree to a NumPy array\n",
        "    bestTreesIndex = np.argsort(mseTree)[:5]  # Use np.argsort() instead of mseTree.argsort()\n",
        "\n",
        "    for j in range(len(bestTreesIndex)):\n",
        "        bestTrees.append(treeList[bestTreesIndex[j]])\n",
        "\n",
        "    treeList = []\n",
        "    for j in range(len(bestTrees)):\n",
        "        treeList.append(bestTrees[j])\n",
        "        for k in range(j + 1, len(bestTrees)):\n",
        "\n",
        "            temp1 = copy.deepcopy(bestTrees[j])\n",
        "            temp2 = copy.deepcopy(bestTrees[k])\n",
        "\n",
        "            nodes1 = temp1.TreeToList()\n",
        "            nodes2 = temp2.TreeToList()\n",
        "\n",
        "            select1 = random.choice(nodes1)\n",
        "            select2 = random.choice(nodes2)\n",
        "\n",
        "            temp1.ReplaceNode(select1, select2)\n",
        "            temp2.ReplaceNode(select2, select1)\n",
        "\n",
        "            treeList.append(temp1)\n",
        "            treeList.append(temp2)\n",
        "\n",
        "    mseTree = []\n",
        "    for tree in treeList:\n",
        "        valueList = []\n",
        "        for j in range(len(X_train)):\n",
        "            temp = tree.calculate(X_train[j][0])\n",
        "            valueList.append(temp)\n",
        "        valueList = np.array(valueList)\n",
        "        mse = mean_squared_error(y_train, valueList)\n",
        "        mseTree.append(abs(mse))\n",
        "\n",
        "    sorted_list = sorted(mseTree)\n",
        "    lowest_five = sorted_list[:5]\n",
        "    if all(val == 0 for val in lowest_five):  # Check if all elements are zero\n",
        "        avg.append(0)\n",
        "    else:\n",
        "        avg.append(sum(lowest_five) / len(lowest_five))\n",
        "\n",
        "avg = np.array(avg)\n",
        "avg\n"
      ],
      "metadata": {
        "colab": {
          "base_uri": "https://localhost:8080/"
        },
        "id": "Ot6j86yzg2BL",
        "outputId": "640b0237-5b19-44e7-b143-c023d8d03ade"
      },
      "execution_count": 20,
      "outputs": [
        {
          "output_type": "execute_result",
          "data": {
            "text/plain": [
              "array([0, 0, 0, 0, 0, 0, 0, 0, 0, 0, 0, 0, 0, 0, 0, 0, 0, 0, 0, 0, 0, 0,\n",
              "       0, 0, 0, 0, 0, 0, 0, 0, 0, 0, 0, 0, 0, 0, 0, 0, 0, 0, 0, 0, 0, 0,\n",
              "       0, 0, 0, 0, 0, 0, 0, 0, 0, 0, 0, 0, 0, 0, 0, 0, 0, 0, 0, 0, 0, 0,\n",
              "       0, 0, 0, 0, 0, 0, 0, 0, 0, 0, 0, 0, 0, 0, 0, 0, 0, 0, 0, 0, 0, 0,\n",
              "       0, 0, 0, 0, 0, 0, 0, 0, 0, 0, 0, 0, 0, 0, 0, 0, 0, 0, 0, 0, 0, 0,\n",
              "       0, 0, 0, 0, 0, 0, 0, 0, 0, 0, 0, 0, 0, 0, 0, 0, 0, 0, 0, 0, 0, 0,\n",
              "       0, 0, 0, 0, 0, 0, 0, 0, 0, 0, 0, 0, 0, 0, 0, 0, 0, 0, 0, 0, 0, 0,\n",
              "       0, 0, 0, 0, 0, 0, 0, 0, 0, 0, 0, 0, 0, 0, 0, 0, 0, 0, 0, 0, 0, 0,\n",
              "       0, 0, 0, 0, 0, 0, 0, 0, 0, 0, 0, 0, 0, 0, 0, 0, 0, 0, 0, 0, 0, 0,\n",
              "       0, 0, 0, 0, 0, 0, 0, 0, 0, 0, 0, 0, 0, 0, 0, 0, 0, 0, 0, 0, 0, 0,\n",
              "       0, 0, 0, 0, 0, 0, 0, 0, 0, 0, 0, 0, 0, 0, 0, 0, 0, 0, 0, 0, 0, 0,\n",
              "       0, 0, 0, 0, 0, 0, 0, 0, 0, 0, 0, 0, 0, 0, 0, 0, 0, 0, 0, 0, 0, 0,\n",
              "       0, 0, 0, 0, 0, 0, 0, 0, 0, 0, 0, 0, 0, 0, 0, 0, 0, 0, 0, 0, 0, 0,\n",
              "       0, 0, 0, 0, 0, 0, 0, 0, 0, 0, 0, 0, 0, 0, 0, 0, 0, 0, 0, 0, 0, 0,\n",
              "       0, 0, 0, 0, 0, 0, 0, 0, 0, 0, 0, 0, 0, 0, 0, 0, 0, 0, 0, 0, 0, 0,\n",
              "       0, 0, 0, 0, 0, 0, 0, 0, 0, 0, 0, 0, 0, 0, 0, 0, 0, 0, 0, 0, 0, 0,\n",
              "       0, 0, 0, 0, 0, 0, 0, 0, 0, 0, 0, 0, 0, 0, 0, 0, 0, 0, 0, 0, 0, 0,\n",
              "       0, 0, 0, 0, 0, 0, 0, 0, 0, 0, 0, 0, 0, 0, 0, 0, 0, 0, 0, 0, 0, 0,\n",
              "       0, 0, 0, 0, 0, 0, 0, 0, 0, 0, 0, 0, 0, 0, 0, 0, 0, 0, 0, 0, 0, 0,\n",
              "       0, 0, 0, 0, 0, 0, 0, 0, 0, 0, 0, 0, 0, 0, 0, 0, 0, 0, 0, 0, 0, 0,\n",
              "       0, 0, 0, 0, 0, 0, 0, 0, 0, 0, 0, 0, 0, 0, 0, 0, 0, 0, 0, 0, 0, 0,\n",
              "       0, 0, 0, 0, 0, 0, 0, 0, 0, 0, 0, 0, 0, 0, 0, 0, 0, 0, 0, 0, 0, 0,\n",
              "       0, 0, 0, 0, 0, 0, 0, 0, 0, 0, 0, 0, 0, 0, 0, 0, 0, 0, 0, 0, 0, 0,\n",
              "       0, 0, 0, 0, 0, 0, 0, 0, 0, 0, 0, 0, 0, 0, 0, 0, 0, 0, 0, 0, 0, 0,\n",
              "       0, 0, 0, 0, 0, 0, 0, 0, 0, 0, 0, 0, 0, 0, 0, 0, 0, 0, 0, 0, 0, 0,\n",
              "       0, 0, 0, 0, 0, 0, 0, 0, 0, 0, 0, 0, 0, 0, 0, 0, 0, 0, 0, 0, 0, 0,\n",
              "       0, 0, 0, 0, 0, 0, 0, 0, 0, 0, 0, 0, 0, 0, 0, 0, 0, 0, 0, 0, 0, 0,\n",
              "       0, 0, 0, 0, 0, 0, 0, 0, 0, 0, 0, 0, 0, 0, 0, 0, 0, 0, 0, 0, 0, 0,\n",
              "       0, 0, 0, 0, 0, 0, 0, 0, 0, 0, 0, 0, 0, 0, 0, 0, 0, 0, 0, 0, 0, 0,\n",
              "       0, 0, 0, 0, 0, 0, 0, 0, 0, 0, 0, 0, 0, 0, 0, 0, 0, 0, 0, 0, 0, 0,\n",
              "       0, 0, 0, 0, 0, 0, 0, 0, 0, 0, 0, 0, 0, 0, 0, 0, 0, 0, 0, 0, 0, 0,\n",
              "       0, 0, 0, 0, 0, 0, 0, 0, 0, 0, 0, 0, 0, 0, 0, 0, 0, 0, 0, 0, 0, 0,\n",
              "       0, 0, 0, 0, 0, 0, 0, 0, 0, 0, 0, 0, 0, 0, 0, 0, 0, 0, 0, 0, 0, 0,\n",
              "       0, 0, 0, 0, 0, 0, 0, 0, 0, 0, 0, 0, 0, 0, 0, 0, 0, 0, 0, 0, 0, 0,\n",
              "       0, 0, 0, 0, 0, 0, 0, 0, 0, 0, 0, 0, 0, 0, 0, 0, 0, 0, 0, 0, 0, 0,\n",
              "       0, 0, 0, 0, 0, 0, 0, 0, 0, 0, 0, 0, 0, 0, 0, 0, 0, 0, 0, 0, 0, 0,\n",
              "       0, 0, 0, 0, 0, 0, 0, 0, 0, 0, 0, 0, 0, 0, 0, 0, 0, 0, 0, 0, 0, 0,\n",
              "       0, 0, 0, 0, 0, 0, 0, 0, 0, 0, 0, 0, 0, 0, 0, 0, 0, 0, 0, 0, 0, 0,\n",
              "       0, 0, 0, 0, 0, 0, 0, 0, 0, 0, 0, 0, 0, 0, 0, 0, 0, 0, 0, 0, 0, 0,\n",
              "       0, 0, 0, 0, 0, 0, 0, 0, 0, 0, 0, 0, 0, 0, 0, 0, 0, 0, 0, 0, 0, 0,\n",
              "       0, 0, 0, 0, 0, 0, 0, 0, 0, 0, 0, 0, 0, 0, 0, 0, 0, 0, 0, 0, 0, 0,\n",
              "       0, 0, 0, 0, 0, 0, 0, 0, 0, 0, 0, 0, 0, 0, 0, 0, 0, 0, 0, 0, 0, 0,\n",
              "       0, 0, 0, 0, 0, 0, 0, 0, 0, 0, 0, 0, 0, 0, 0, 0, 0, 0, 0, 0, 0, 0,\n",
              "       0, 0, 0, 0, 0, 0, 0, 0, 0, 0, 0, 0, 0, 0, 0, 0, 0, 0, 0, 0, 0, 0,\n",
              "       0, 0, 0, 0, 0, 0, 0, 0, 0, 0, 0, 0, 0, 0, 0, 0, 0, 0, 0, 0, 0, 0,\n",
              "       0, 0, 0, 0, 0, 0, 0, 0, 0, 0])"
            ]
          },
          "metadata": {},
          "execution_count": 20
        }
      ]
    },
    {
      "cell_type": "code",
      "source": [
        "plt.scatter(range(len(avg)), avg)\n",
        "plt.xlabel('Iteration')\n",
        "plt.ylabel('Men MSE')\n",
        "\n",
        "plt.show()"
      ],
      "metadata": {
        "colab": {
          "base_uri": "https://localhost:8080/",
          "height": 449
        },
        "id": "5Moe3HG1g2Dj",
        "outputId": "029ea5ac-c1cd-4d5f-82df-529e949c6fc0"
      },
      "execution_count": 19,
      "outputs": [
        {
          "output_type": "display_data",
          "data": {
            "text/plain": [
              "<Figure size 640x480 with 1 Axes>"
            ],
            "image/png": "[encoded data removed]"
          },
          "metadata": {}
        }
      ]
    },
    {
      "cell_type": "code",
      "source": [],
      "metadata": {
        "id": "X7WhMYiig2F5"
      },
      "execution_count": null,
      "outputs": []
    }
  ]
}